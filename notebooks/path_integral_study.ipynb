{
 "cells": [
  {
   "attachments": {},
   "cell_type": "markdown",
   "metadata": {},
   "source": [
    "# Simulation and Visualization of Path Integral"
   ]
  },
  {
   "attachments": {},
   "cell_type": "markdown",
   "metadata": {},
   "source": [
    "path-integral derivation of one-dimentional diffusion process\n",
    "$$\n",
    "\\begin{align}\n",
    "P(x_N, t_N) &= \\frac{1}{2\\pi} \\int^{\\infty}_{-\\infty} \\rm{d}x_0 \\sqrt{\\frac{\\pi}{D(t_N - t_0)}} \n",
    "\\exp \\left\\{ - \\frac{[\\ (x_N - x_0) + u(t_N - t_0) \\ ]^2}{4D(t_N-t_0)} \\right\\} \\delta(x_0-x_I) \\nonumber \\\\\n",
    "            &= \\sqrt{\\frac{1}{4\\pi D(t_N - t_0)}} \\exp \\left\\{ - \\frac{[\\ (x_N - x_I) + u(t_N - t_0) \\ ]^2}{4D(t_N-t_0)} \\right\\} \\nonumber\n",
    "\\end{align}\n",
    "$$"
   ]
  },
  {
   "cell_type": "code",
   "execution_count": null,
   "metadata": {},
   "outputs": [],
   "source": [
    "import numpy as np\n",
    "import matplotlib.pyplot as plt"
   ]
  },
  {
   "cell_type": "code",
   "execution_count": null,
   "metadata": {},
   "outputs": [],
   "source": [
    "def P(\n",
    "      xn_xi: np.ndarray,\n",
    "      tn_t0: float, \n",
    "      D: float,\n",
    "      u: float,\n",
    "    ):\n",
    "    \"\"\"\n",
    "    xn_xi : x_N - x_I [m]\n",
    "    tn_t0 : t_N - t_0 [sec]\n",
    "    D : diffusion coefficient\n",
    "    u : velocity\n",
    "    \"\"\"\n",
    "\n",
    "    p = np.sqrt(1.0 / 4.0 * np.pi * D * tn_t0) *\\\n",
    "        np.exp(-((xn_xi) + u * (tn_t0))**2 / (4.0 * D * tn_t0))\n",
    "\n",
    "    return p"
   ]
  },
  {
   "cell_type": "code",
   "execution_count": null,
   "metadata": {},
   "outputs": [],
   "source": [
    "# simulation params\n",
    "num_of_samples = 401\n",
    "xmin, xmax = -8, +8 # [m]\n",
    "xi = 1.0 # [m]\n",
    "x = np.linspace(xmin, xmax, num_of_samples)\n",
    "x_xi = x - np.ones(num_of_samples) * xi\n",
    "t0 = 0.0 # [sec]\n",
    "t = 1.0 # [sec]\n",
    "t_t0 = t - t0\n",
    "D = 1.0 # [m^2/s]\n",
    "u = 2.0 # [m/s]\n",
    "\n",
    "# make figure\n",
    "fig, ax = plt.subplots()\n",
    "\n",
    "# layout settings\n",
    "ax.spines['right'].set_visible(False)\n",
    "ax.spines['top'].set_visible(False)\n",
    "\n",
    "# set axis limits\n",
    "ax.set_xlim(xmin, xmax)\n",
    "ax.set_ylim( 0,  1.0)\n",
    "\n",
    "# draw x = x_i\n",
    "ax.axvline(x=xi, linestyle=\"dashed\", color=\"gray\")\n",
    "\n",
    "# draw P(x) with fill & plot\n",
    "ax.fill_between(x, P(x_xi, t_t0, D, u), fc='#add8e6')\n",
    "ax.plot(x, P(x_xi, t_t0, D, u), color=\"#005AFF\")\n",
    "\n",
    "# show plot\n",
    "plt.show()"
   ]
  }
 ],
 "metadata": {
  "kernelspec": {
   "display_name": ".venv",
   "language": "python",
   "name": "python3"
  },
  "language_info": {
   "codemirror_mode": {
    "name": "ipython",
    "version": 3
   },
   "file_extension": ".py",
   "mimetype": "text/x-python",
   "name": "python",
   "nbconvert_exporter": "python",
   "pygments_lexer": "ipython3",
   "version": "3.12.0"
  },
  "orig_nbformat": 4
 },
 "nbformat": 4,
 "nbformat_minor": 2
}
