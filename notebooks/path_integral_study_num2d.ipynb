{
 "cells": [
  {
   "attachments": {},
   "cell_type": "markdown",
   "metadata": {},
   "source": [
    "# Simulation and Visualization of Path Integral"
   ]
  },
  {
   "attachments": {},
   "cell_type": "markdown",
   "metadata": {},
   "source": [
    "path-integral derivation of one-dimentional diffusion process\n",
    "$$\n",
    "\\begin{align}\n",
    "P(x_N, t_N) &= \\frac{1}{2\\pi} \\int^{\\infty}_{-\\infty} \\rm{d}x_0 \\sqrt{\\frac{\\pi}{D(t_N - t_0)}} \n",
    "\\exp \\left\\{ - \\frac{[\\ (x_N - x_0) - u(t_N - t_0) \\ ]^2}{4D(t_N-t_0)} \\right\\} \\delta(x_0-x_I) \\nonumber \\\\\n",
    "            &= \\sqrt{\\frac{1}{4\\pi D(t_N - t_0)}} \\exp \\left\\{ - \\frac{[\\ (x_N - x_I) - u(t_N - t_0) \\ ]^2}{4D(t_N-t_0)} \\right\\} \\nonumber\n",
    "\\end{align}\n",
    "$$\n",
    "\n",
    "$\\mu$ : $$ x_I + u(t_N - t_0) $$\n",
    "\n",
    "$\\sigma$ : $$ \\sqrt{2 D (t_N - t_0) } $$"
   ]
  },
  {
   "cell_type": "code",
   "execution_count": 17,
   "metadata": {},
   "outputs": [],
   "source": [
    "# basic\n",
    "import numpy as np\n",
    "import matplotlib.pyplot as plt\n",
    "from scipy.stats import multivariate_normal\n",
    "\n",
    "# animation\n",
    "from matplotlib import patches\n",
    "from matplotlib.animation import ArtistAnimation\n",
    "from IPython import display"
   ]
  },
  {
   "cell_type": "code",
   "execution_count": 18,
   "metadata": {},
   "outputs": [],
   "source": [
    "# analytical solution\n",
    "def P(\n",
    "      xn_xi: np.ndarray,\n",
    "      tn_t0: float, \n",
    "      D: float,\n",
    "      u: float,\n",
    "    ):\n",
    "    \"\"\"\n",
    "    xn_xi : x_N - x_I [m]\n",
    "    tn_t0 : t_N - t_0 [sec]\n",
    "    D : diffusion coefficient [m^2/s]\n",
    "    u : velocity [m/s]\n",
    "    \"\"\"\n",
    "\n",
    "    p = np.sqrt(1.0 / (4.0 * np.pi * D * tn_t0) ) *\\\n",
    "        np.exp(-((xn_xi) - u * (tn_t0))**2 / (4.0 * D * tn_t0))\n",
    "\n",
    "    return p"
   ]
  },
  {
   "attachments": {},
   "cell_type": "markdown",
   "metadata": {},
   "source": [
    "$$\n",
    "P(x_i, t+\\Delta t) = \\sqrt{\\frac{1}{4\\pi D \\Delta t}} \\sum_j \\exp \\left[-  \\frac{(x_i - x_j - u\\Delta t)^2}{4D \\Delta t} \\right] \\Delta x \\cdot P(x_j, t)\n",
    "$$"
   ]
  },
  {
   "cell_type": "code",
   "execution_count": 19,
   "metadata": {},
   "outputs": [],
   "source": [
    "# numerical solution\n",
    "def PathIntegralP(\n",
    "      P_prev: np.ndarray,\n",
    "      x_xi: np.ndarray,\n",
    "      delta_t: float,\n",
    "      D: float,\n",
    "      u: float,\n",
    "    ):\n",
    "    \"\"\"path-integral\n",
    "    P_prev : previous probability \n",
    "    delta_t: descritized time step [s]  \n",
    "    D : diffusion coefficient [m^2/s]\n",
    "    u : velocity [m/s]\n",
    "    \"\"\"\n",
    "    xdim = x_xi.size\n",
    "    delta_x = (x_xi[-1] - x_xi[0]) / xdim\n",
    "\n",
    "    A = np.zeros((xdim,xdim))\n",
    "    for k in range(xdim):\n",
    "      ak = -np.arange(-k, -k + xdim) # -k ... -k + xdim-1\n",
    "      A[k] = ak * delta_x\n",
    "    A -= u*delta_t\n",
    "\n",
    "    Pc = np.sqrt(1.0 / (4.0 * np.pi * D * delta_t)) * np.exp(- A**2 / (4.0 * D * delta_t) ) * delta_x\n",
    "    P_next = Pc @ P_prev\n",
    "\n",
    "    return P_next"
   ]
  },
  {
   "attachments": {},
   "cell_type": "markdown",
   "metadata": {},
   "source": [
    "$$\n",
    "    P(x_i, y_j, t+\\Delta t) \n",
    "    = \n",
    "    \\sqrt{\\frac{1}{4\\pi D \\Delta t}} \n",
    "    \\sum_k \n",
    "    \\exp \\left[-  \\frac{(x_i - x_k - u_x\\Delta t)^2}{4D \\Delta t} \\right] \n",
    "    \\Delta x \n",
    "    \\cdot\n",
    "    \\sqrt{\\frac{1}{4\\pi D \\Delta t}} \n",
    "    \\sum_l\n",
    "    \\exp \\left[-  \\frac{(y_j - y_l - u_y\\Delta t)^2}{4D \\Delta t} \\right] \n",
    "    \\Delta y \n",
    "    \\cdot \n",
    "    P(x_k, y_l, t)\n",
    "$$"
   ]
  },
  {
   "cell_type": "code",
   "execution_count": null,
   "metadata": {},
   "outputs": [],
   "source": [
    "xdim = 3\n",
    "ydim = 4\n",
    "A_large = np.zeros((2*xdim-1, 2*ydim-1))\n",
    "for x in range(1, xdim):\n",
    "    for y in range(1, ydim):\n",
    "        distance = np.sqrt(x**2+y**2)\n",
    "        i = \n",
    "        A_large[i+xdim-1, j+ydim-1] = distance\n",
    "        A_large[i+xdim-1, j+ydim-1] = distance"
   ]
  },
  {
   "cell_type": "code",
   "execution_count": 4,
   "metadata": {},
   "outputs": [
    {
     "data": {
      "image/png": "[encoded data removed]",
      "text/plain": [
       "<Figure size 640x480 with 1 Axes>"
      ]
     },
     "metadata": {},
     "output_type": "display_data"
    }
   ],
   "source": [
    "# simulation params\n",
    "num_of_samples = 401\n",
    "xmin, xmax = -16.0, +16.0 # [m]\n",
    "\n",
    "xi = 1.0 # [m]\n",
    "x = np.linspace(xmin, xmax, num_of_samples)\n",
    "x_xi = x - np.ones(num_of_samples) * xi\n",
    "t0 = 0.0 # [sec]\n",
    "t = 0.1 # [sec]\n",
    "t_t0 = t - t0\n",
    "delta_t = 0.1 # [s]\n",
    "D = 1.0 # [m^2/s]\n",
    "u = 0.0 # [m/s]\n",
    "\n",
    "# set prior distribution as you like\n",
    "## ex. 1\n",
    "# Pnow = P(x_xi, 2.0, D=D, u=-3.0) + P(x_xi, 1.0, D=D, u=1.0)\n",
    "# Pnow /= 2 # standardization\n",
    "## ex. 2\n",
    "P_prev = P(x_xi, 2.0, D=D, u=-3.0) + P(x_xi, 0.5, D=D, u=0.0) + P(x_xi, 1.5, D=D, u=3.0)\n",
    "P_prev /= 3 # standardization\n",
    "\n",
    "# make figure\n",
    "fig, ax = plt.subplots()\n",
    "\n",
    "# layout settings\n",
    "ax.spines['right'].set_visible(False)\n",
    "ax.spines['top'].set_visible(False)\n",
    "\n",
    "# set axis limits\n",
    "ax.set_xlim(xmin, xmax)\n",
    "ax.set_ylim( 0,  1.0)\n",
    "\n",
    "# draw P_prev\n",
    "ax.plot(x, P_prev, color=\"gray\")\n",
    "\n",
    "# draw P(x) with fill & plot\n",
    "ax.fill_between(x, PathIntegralP(P_prev, x_xi, delta_t*20, D, u), fc='#add8e6')\n",
    "ax.plot(x, PathIntegralP(P_prev, x_xi, delta_t*20, D, u), color=\"#005AFF\")\n",
    "\n",
    "# show plot\n",
    "plt.show()"
   ]
  },
  {
   "cell_type": "code",
   "execution_count": 5,
   "metadata": {},
   "outputs": [
    {
     "name": "stderr",
     "output_type": "stream",
     "text": [
      "/var/folders/9j/hrz2cfzj42n83g5gn4w9twy00000gn/T/ipykernel_25507/5086503.py:36: UserWarning: The figure layout has changed to tight\n",
      "  fig.tight_layout()\n",
      "\n",
      "KeyboardInterrupt\n",
      "\n"
     ]
    },
    {
     "data": {
      "image/png": "[encoded data removed]",
      "text/plain": [
       "<Figure size 600x300 with 1 Axes>"
      ]
     },
     "metadata": {},
     "output_type": "display_data"
    }
   ],
   "source": [
    "# prepare figure\n",
    "fig, ax = plt.subplots(1, 1, figsize=(6,3))\n",
    "\n",
    "# simulation params\n",
    "t0 = 0.0 # [sec]\n",
    "t = 5.0 #10.0 # [sec]\n",
    "D = 1.0 # [m^2/s]\n",
    "u = 10.0 # [m/s]\n",
    "xi = 1.0 # [m]\n",
    "dt = 0.05 # [s]\n",
    "dx = 0.05 # [m]\n",
    "\n",
    "# simulation settings\n",
    "num_sigma = 3 # x range to consider in simulation\n",
    "t_t0 = t - t0\n",
    "sim_steps = int(t_t0 // dt) # [step]\n",
    "xlim0, xlimn = xi-np.sign(u)*np.sqrt(2*D*t)*num_sigma, xi+u*t+np.sign(u)*np.sqrt(2*D*t)*num_sigma\n",
    "xmin, xmax = min(xlim0, xlimn), max(xlim0, xlimn)\n",
    "num_of_samples = int((xmax-xmin)/dx)\n",
    "x = np.linspace(xmin, xmax, num_of_samples)\n",
    "x_xi = x - np.ones(num_of_samples) * xi\n",
    "\n",
    "# set prior distribution as you like\n",
    "Pnow = P(x_xi, 2.0, D=D, u=-3.0) + P(x_xi, 0.5, D=D, u=0.0) + P(x_xi, 1.5, D=D, u=3.0)\n",
    "Pnow /= 3 # standardization\n",
    "\n",
    "# graph layout settings\n",
    "ax.set_xlabel(\"x [m]\")\n",
    "ax.set_ylabel(\"Probability P(x)\")\n",
    "ax.set_xlim(xmin, xmax)\n",
    "ymax = np.max(Pnow)*1.5\n",
    "ax.set_ylim(0, ymax)\n",
    "ax.set_yticks([0, 0.3])\n",
    "ax.spines['right'].set_visible(False)\n",
    "ax.spines['top'].set_visible(False)\n",
    "fig.tight_layout()\n",
    "\n",
    "# simulation loop\n",
    "frames = []\n",
    "for i in range(1, sim_steps):\n",
    "    current_t = t0 + i * dt\n",
    "    Pnow = PathIntegralP(Pnow, x_xi, dt, D, u)\n",
    "    frame = ax.plot(x, Pnow, color=\"#005AFF\")\n",
    "    frame += [ax.fill_between(x, Pnow, fc='#add8e6')]\n",
    "    text = \"Time t = {t:>4.1f} [s]\".format(t=current_t)\n",
    "    frame += [ax.text(0.5, 0.9, text, ha='center', transform=ax.transAxes, fontsize=10, fontfamily='monospace')]\n",
    "    frames.append(frame)\n",
    "\n",
    "# show animation\n",
    "ani = ArtistAnimation(fig, frames, interval=dt*1000)\n",
    "html = display.HTML(ani.to_jshtml())\n",
    "display.display(html)\n",
    "plt.close()\n",
    "\n",
    "# save animation\n",
    "ani.save(\"path_integral_diffusion.mp4\", writer=\"ffmpeg\")"
   ]
  }
 ],
 "metadata": {
  "kernelspec": {
   "display_name": "Python 3 (ipykernel)",
   "language": "python",
   "name": "python3"
  },
  "language_info": {
   "codemirror_mode": {
    "name": "ipython",
    "version": 3
   },
   "file_extension": ".py",
   "mimetype": "text/x-python",
   "name": "python",
   "nbconvert_exporter": "python",
   "pygments_lexer": "ipython3",
   "version": "3.11.7"
  }
 },
 "nbformat": 4,
 "nbformat_minor": 4
}
